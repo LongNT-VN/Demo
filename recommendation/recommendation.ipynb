{
 "cells": [
  {
   "cell_type": "code",
   "execution_count": 1,
   "metadata": {},
   "outputs": [],
   "source": [
    "import findspark\n",
    "findspark.init()\n",
    "from pyspark.sql import SparkSession\n",
    "from pyspark.sql import functions as f\n",
    "spark = SparkSession.builder.appName(\"movieRecommendationPySpark\").getOrCreate()"
   ]
  },
  {
   "cell_type": "code",
   "execution_count": 3,
   "metadata": {},
   "outputs": [
    {
     "ename": "AnalysisException",
     "evalue": "Path does not exist: file:/e:/Học/Năm 4/Công nghệ dữ liệu lớn/Demo/data/ml-25/ratings.csv",
     "output_type": "error",
     "traceback": [
      "\u001b[1;31m---------------------------------------------------------------------------\u001b[0m",
      "\u001b[1;31mAnalysisException\u001b[0m                         Traceback (most recent call last)",
      "\u001b[1;32m~\\AppData\\Local\\Temp/ipykernel_16544/3218168175.py\u001b[0m in \u001b[0;36m<module>\u001b[1;34m\u001b[0m\n\u001b[0;32m      1\u001b[0m ratings = (\n\u001b[1;32m----> 2\u001b[1;33m     spark.read.csv(\n\u001b[0m\u001b[0;32m      3\u001b[0m         \u001b[0mpath\u001b[0m \u001b[1;33m=\u001b[0m \u001b[1;34m\"../data/ml-25/ratings.csv\"\u001b[0m\u001b[1;33m,\u001b[0m\u001b[1;33m\u001b[0m\u001b[1;33m\u001b[0m\u001b[0m\n\u001b[0;32m      4\u001b[0m         \u001b[0msep\u001b[0m\u001b[1;33m=\u001b[0m\u001b[1;34m\",\"\u001b[0m\u001b[1;33m,\u001b[0m \u001b[0mheader\u001b[0m\u001b[1;33m=\u001b[0m\u001b[1;32mTrue\u001b[0m\u001b[1;33m,\u001b[0m\u001b[0mquote\u001b[0m\u001b[1;33m=\u001b[0m\u001b[1;34m'\"'\u001b[0m\u001b[1;33m,\u001b[0m\u001b[0mschema\u001b[0m\u001b[1;33m=\u001b[0m\u001b[1;34m\"userId INT, movieId INT, rating DOUBLE, timestamp INT\"\u001b[0m\u001b[1;33m,\u001b[0m\u001b[1;33m\u001b[0m\u001b[1;33m\u001b[0m\u001b[0m\n\u001b[0;32m      5\u001b[0m     ).select(\"userId\", \"movieId\", \"rating\")\n",
      "\u001b[1;32mD:\\Spark\\spark-3.2.0-bin-hadoop3.2\\python\\pyspark\\sql\\readwriter.py\u001b[0m in \u001b[0;36mcsv\u001b[1;34m(self, path, schema, sep, encoding, quote, escape, comment, header, inferSchema, ignoreLeadingWhiteSpace, ignoreTrailingWhiteSpace, nullValue, nanValue, positiveInf, negativeInf, dateFormat, timestampFormat, maxColumns, maxCharsPerColumn, maxMalformedLogPerPartition, mode, columnNameOfCorruptRecord, multiLine, charToEscapeQuoteEscaping, samplingRatio, enforceSchema, emptyValue, locale, lineSep, pathGlobFilter, recursiveFileLookup, modifiedBefore, modifiedAfter, unescapedQuoteHandling)\u001b[0m\n\u001b[0;32m    408\u001b[0m             \u001b[0mpath\u001b[0m \u001b[1;33m=\u001b[0m \u001b[1;33m[\u001b[0m\u001b[0mpath\u001b[0m\u001b[1;33m]\u001b[0m\u001b[1;33m\u001b[0m\u001b[1;33m\u001b[0m\u001b[0m\n\u001b[0;32m    409\u001b[0m         \u001b[1;32mif\u001b[0m \u001b[0mtype\u001b[0m\u001b[1;33m(\u001b[0m\u001b[0mpath\u001b[0m\u001b[1;33m)\u001b[0m \u001b[1;33m==\u001b[0m \u001b[0mlist\u001b[0m\u001b[1;33m:\u001b[0m\u001b[1;33m\u001b[0m\u001b[1;33m\u001b[0m\u001b[0m\n\u001b[1;32m--> 410\u001b[1;33m             \u001b[1;32mreturn\u001b[0m \u001b[0mself\u001b[0m\u001b[1;33m.\u001b[0m\u001b[0m_df\u001b[0m\u001b[1;33m(\u001b[0m\u001b[0mself\u001b[0m\u001b[1;33m.\u001b[0m\u001b[0m_jreader\u001b[0m\u001b[1;33m.\u001b[0m\u001b[0mcsv\u001b[0m\u001b[1;33m(\u001b[0m\u001b[0mself\u001b[0m\u001b[1;33m.\u001b[0m\u001b[0m_spark\u001b[0m\u001b[1;33m.\u001b[0m\u001b[0m_sc\u001b[0m\u001b[1;33m.\u001b[0m\u001b[0m_jvm\u001b[0m\u001b[1;33m.\u001b[0m\u001b[0mPythonUtils\u001b[0m\u001b[1;33m.\u001b[0m\u001b[0mtoSeq\u001b[0m\u001b[1;33m(\u001b[0m\u001b[0mpath\u001b[0m\u001b[1;33m)\u001b[0m\u001b[1;33m)\u001b[0m\u001b[1;33m)\u001b[0m\u001b[1;33m\u001b[0m\u001b[1;33m\u001b[0m\u001b[0m\n\u001b[0m\u001b[0;32m    411\u001b[0m         \u001b[1;32melif\u001b[0m \u001b[0misinstance\u001b[0m\u001b[1;33m(\u001b[0m\u001b[0mpath\u001b[0m\u001b[1;33m,\u001b[0m \u001b[0mRDD\u001b[0m\u001b[1;33m)\u001b[0m\u001b[1;33m:\u001b[0m\u001b[1;33m\u001b[0m\u001b[1;33m\u001b[0m\u001b[0m\n\u001b[0;32m    412\u001b[0m             \u001b[1;32mdef\u001b[0m \u001b[0mfunc\u001b[0m\u001b[1;33m(\u001b[0m\u001b[0miterator\u001b[0m\u001b[1;33m)\u001b[0m\u001b[1;33m:\u001b[0m\u001b[1;33m\u001b[0m\u001b[1;33m\u001b[0m\u001b[0m\n",
      "\u001b[1;32mD:\\Spark\\spark-3.2.0-bin-hadoop3.2\\python\\lib\\py4j-0.10.9.2-src.zip\\py4j\\java_gateway.py\u001b[0m in \u001b[0;36m__call__\u001b[1;34m(self, *args)\u001b[0m\n\u001b[0;32m   1307\u001b[0m \u001b[1;33m\u001b[0m\u001b[0m\n\u001b[0;32m   1308\u001b[0m         \u001b[0manswer\u001b[0m \u001b[1;33m=\u001b[0m \u001b[0mself\u001b[0m\u001b[1;33m.\u001b[0m\u001b[0mgateway_client\u001b[0m\u001b[1;33m.\u001b[0m\u001b[0msend_command\u001b[0m\u001b[1;33m(\u001b[0m\u001b[0mcommand\u001b[0m\u001b[1;33m)\u001b[0m\u001b[1;33m\u001b[0m\u001b[1;33m\u001b[0m\u001b[0m\n\u001b[1;32m-> 1309\u001b[1;33m         return_value = get_return_value(\n\u001b[0m\u001b[0;32m   1310\u001b[0m             answer, self.gateway_client, self.target_id, self.name)\n\u001b[0;32m   1311\u001b[0m \u001b[1;33m\u001b[0m\u001b[0m\n",
      "\u001b[1;32mD:\\Spark\\spark-3.2.0-bin-hadoop3.2\\python\\pyspark\\sql\\utils.py\u001b[0m in \u001b[0;36mdeco\u001b[1;34m(*a, **kw)\u001b[0m\n\u001b[0;32m    115\u001b[0m                 \u001b[1;31m# Hide where the exception came from that shows a non-Pythonic\u001b[0m\u001b[1;33m\u001b[0m\u001b[1;33m\u001b[0m\u001b[0m\n\u001b[0;32m    116\u001b[0m                 \u001b[1;31m# JVM exception message.\u001b[0m\u001b[1;33m\u001b[0m\u001b[1;33m\u001b[0m\u001b[0m\n\u001b[1;32m--> 117\u001b[1;33m                 \u001b[1;32mraise\u001b[0m \u001b[0mconverted\u001b[0m \u001b[1;32mfrom\u001b[0m \u001b[1;32mNone\u001b[0m\u001b[1;33m\u001b[0m\u001b[1;33m\u001b[0m\u001b[0m\n\u001b[0m\u001b[0;32m    118\u001b[0m             \u001b[1;32melse\u001b[0m\u001b[1;33m:\u001b[0m\u001b[1;33m\u001b[0m\u001b[1;33m\u001b[0m\u001b[0m\n\u001b[0;32m    119\u001b[0m                 \u001b[1;32mraise\u001b[0m\u001b[1;33m\u001b[0m\u001b[1;33m\u001b[0m\u001b[0m\n",
      "\u001b[1;31mAnalysisException\u001b[0m: Path does not exist: file:/e:/Học/Năm 4/Công nghệ dữ liệu lớn/Demo/data/ml-25/ratings.csv"
     ]
    }
   ],
   "source": [
    "ratings = (\n",
    "    spark.read.csv(\n",
    "        path = \"../data/ml-25m/ratings.csv\",\n",
    "        sep=\",\", header=True,quote='\"',schema=\"userId INT, movieId INT, rating DOUBLE, timestamp INT\",\n",
    "    ).select(\"userId\", \"movieId\", \"rating\")\n",
    "    .cache()\n",
    ")"
   ]
  },
  {
   "cell_type": "code",
   "execution_count": null,
   "metadata": {},
   "outputs": [],
   "source": [
    "from pyspark.ml.recommendation import ALS\n",
    "from pyspark.ml.evaluation import RegressionEvaluator"
   ]
  },
  {
   "cell_type": "code",
   "execution_count": null,
   "metadata": {},
   "outputs": [],
   "source": [
    "als = ALS(\n",
    "    userCol =\"userId\",\n",
    "    itemCol =\"movieId\",\n",
    "    ratingCol = \"rating\",\n",
    ")\n",
    "(training_data, validation_data) = ratings.randomSplit([8.0,2.0])\n",
    "\n",
    "evaluator = RegressionEvaluator(\n",
    "    metricName=\"rmse\",labelCol=\"rating\",predictionCol=\"prediction\"\n",
    ")\n",
    "\n",
    "model = als.fit(training_data)\n",
    "\n",
    "prediction = model.transform(validation_data)\n",
    "\n"
   ]
  },
  {
   "cell_type": "code",
   "execution_count": null,
   "metadata": {},
   "outputs": [
    {
     "name": "stdout",
     "output_type": "stream",
     "text": [
      "+------+-------+------+----------+\n",
      "|userId|movieId|rating|prediction|\n",
      "+------+-------+------+----------+\n",
      "|1     |673    |3.0   |3.286532  |\n",
      "|1     |1208   |4.0   |5.110944  |\n",
      "|1     |1      |4.0   |4.5577874 |\n",
      "|1     |3      |4.0   |4.065167  |\n",
      "|1     |553    |5.0   |4.3488336 |\n",
      "|1     |1256   |5.0   |4.9037333 |\n",
      "|1     |480    |4.0   |4.363128  |\n",
      "|1     |608    |5.0   |4.887341  |\n",
      "|1     |1024   |5.0   |3.968002  |\n",
      "|1     |1090   |4.0   |4.827309  |\n",
      "+------+-------+------+----------+\n",
      "only showing top 10 rows\n",
      "\n",
      "0.8751367980191345\n"
     ]
    }
   ],
   "source": [
    "# prediction.show(10,False)\n",
    "rmse = evaluator.evaluate(prediction.na.drop())\n",
    "# print(rmse)"
   ]
  },
  {
   "cell_type": "code",
   "execution_count": null,
   "metadata": {},
   "outputs": [
    {
     "name": "stderr",
     "output_type": "stream",
     "text": [
      "D:\\Spark\\spark-3.2.0-bin-hadoop3.2\\python\\pyspark\\sql\\context.py:125: FutureWarning: Deprecated in 3.0.0. Use SparkSession.builder.getOrCreate() instead.\n",
      "  warnings.warn(\n"
     ]
    },
    {
     "name": "stdout",
     "output_type": "stream",
     "text": [
      "+---+----------------------------------------------------------------------------------------------------------------------------+\n",
      "|id |features                                                                                                                    |\n",
      "+---+----------------------------------------------------------------------------------------------------------------------------+\n",
      "|1  |[0.2910618, -0.12626813, 0.53618056, 0.34501067, -0.1196083, 0.013863539, 0.21544614, 2.0078578, 0.66096014, -0.018578209]  |\n",
      "|2  |[0.79601717, 0.2603853, -0.117772736, 0.68528473, 0.30389938, 0.057525698, 0.067037456, 1.6126558, 0.39602172, -0.28178793] |\n",
      "|3  |[-0.77848583, 0.7634151, -0.583678, 0.5371052, 0.7707833, 0.18535544, 0.62902284, 0.4933478, 0.7852314, 1.1517444]          |\n",
      "|4  |[0.64204293, -0.88842577, 0.5375029, -0.3971977, -0.30614096, -0.23317055, -0.06744804, 1.6801956, 0.39346108, 0.680426]    |\n",
      "|5  |[-0.0010875319, -0.3232852, 0.55465907, -0.2005563, -0.70407206, 0.21196328, 0.33880502, 1.5273156, 0.62545824, 0.009885573]|\n",
      "+---+----------------------------------------------------------------------------------------------------------------------------+\n",
      "only showing top 5 rows\n",
      "\n",
      "+---+-----------------------------------------------------------------------------------------------------------------------------+\n",
      "|id |features                                                                                                                     |\n",
      "+---+-----------------------------------------------------------------------------------------------------------------------------+\n",
      "|1  |[0.6256339, 0.16081186, 0.34817246, 0.23210323, -0.34476227, -0.30401713, 0.5076059, 1.5552578, 1.3027583, 0.051557552]      |\n",
      "|2  |[0.27171922, 0.11170357, 0.31821388, 0.20513782, -0.14838521, -0.30619156, 0.19725542, 1.4205666, 1.2801806, -0.1279365]     |\n",
      "|3  |[0.9642804, 0.25936052, 0.12762909, -0.12928781, -0.055037636, -0.16273046, 0.42973354, 1.6463898, 0.58569694, -0.19774236]  |\n",
      "|4  |[0.7254184, 0.015779808, 0.48657975, -0.23637159, -0.2543402, -0.5608411, -0.06485888, 0.9413259, 0.3856751, -0.13570932]    |\n",
      "|5  |[0.5907731, -0.10180968, -0.0021491926, 0.13880442, 0.11364776, -0.19194354, -0.11642687, 1.2692206, 0.98187673, -0.66855425]|\n",
      "+---+-----------------------------------------------------------------------------------------------------------------------------+\n",
      "only showing top 5 rows\n",
      "\n",
      "[-0.010604934766888618, 0.3977701663970947, -0.41768649220466614, 0.31774014234542847, 0.23967234790325165, 0.2481500804424286, 0.21924659609794617, 1.5253797769546509, 0.8395414352416992, 0.28893107175827026]\n",
      "[-0.11496958881616592, 0.4273010790348053, 0.3953278958797455, 0.22615563869476318, -0.8111146688461304, -0.3254416882991791, -0.7401241660118103, 1.693289041519165, 1.0529168844223022, 0.37803083658218384]\n",
      "Predicted rating of user 91 for movie 471: 3.2165936942912774\n"
     ]
    }
   ],
   "source": [
    "# userFactors=model.userFactors\n",
    "# itemFactors = model.itemFactors\n",
    "# userFactors.sort('id').show(5,False)\n",
    "# itemFactors.sort('id').show(5,False)\n",
    "# import numpy as np\n",
    "# user91Features = model.userFactors.filter(f.col('id')==91).select(f.col('features')).rdd.flatMap(lambda x:x).collect()[0]\n",
    "# item471Features = model.itemFactors.filter(f.col('id')==471).select(f.col('features')).rdd.flatMap(lambda x:x).collect()[0]\n",
    "\n",
    "# print(user91Features)\n",
    "# print(item471Features)\n",
    "# print('Predicted rating of user 91 for movie 471: ' + str(np.dot(user91Features, item471Features)))"
   ]
  },
  {
   "cell_type": "code",
   "execution_count": null,
   "metadata": {},
   "outputs": [
    {
     "name": "stdout",
     "output_type": "stream",
     "text": [
      "[{Param(parent='ALS_74c46e483e0a', name='rank', doc='rank of the factorization'): 5, Param(parent='ALS_74c46e483e0a', name='maxIter', doc='max number of iterations (>= 0).'): 20, Param(parent='ALS_74c46e483e0a', name='regParam', doc='regularization parameter (>= 0).'): 0.05}, {Param(parent='ALS_74c46e483e0a', name='rank', doc='rank of the factorization'): 5, Param(parent='ALS_74c46e483e0a', name='maxIter', doc='max number of iterations (>= 0).'): 20, Param(parent='ALS_74c46e483e0a', name='regParam', doc='regularization parameter (>= 0).'): 1.0}, {Param(parent='ALS_74c46e483e0a', name='rank', doc='rank of the factorization'): 10, Param(parent='ALS_74c46e483e0a', name='maxIter', doc='max number of iterations (>= 0).'): 20, Param(parent='ALS_74c46e483e0a', name='regParam', doc='regularization parameter (>= 0).'): 0.05}, {Param(parent='ALS_74c46e483e0a', name='rank', doc='rank of the factorization'): 10, Param(parent='ALS_74c46e483e0a', name='maxIter', doc='max number of iterations (>= 0).'): 20, Param(parent='ALS_74c46e483e0a', name='regParam', doc='regularization parameter (>= 0).'): 1.0}]\n"
     ]
    }
   ],
   "source": [
    "# from pyspark.ml.tuning import CrossValidator, ParamGridBuilder\n",
    "\n",
    "# param_grid =  (\n",
    "#     ParamGridBuilder().addGrid(als.rank,[5,10]).addGrid(als.maxIter,[20]).addGrid(als.regParam,[0.05,1]).build()\n",
    "# )\n",
    "# print(param_grid)"
   ]
  },
  {
   "cell_type": "code",
   "execution_count": null,
   "metadata": {},
   "outputs": [
    {
     "name": "stdout",
     "output_type": "stream",
     "text": [
      "0.8751367980191345\n"
     ]
    }
   ],
   "source": [
    "# rmse = evaluator.evaluate(prediction.na.drop())\n",
    "# print(rmse)"
   ]
  },
  {
   "cell_type": "code",
   "execution_count": null,
   "metadata": {},
   "outputs": [
    {
     "name": "stdout",
     "output_type": "stream",
     "text": [
      "+---+-------------------------------------------------------------------------------------------------------------------------+\n",
      "|id |features                                                                                                                 |\n",
      "+---+-------------------------------------------------------------------------------------------------------------------------+\n",
      "|10 |[0.234548, -0.31415012, 0.053325303, -0.7197765, 0.011542611, -0.9042637, -0.44329885, 1.1098106, 1.0720254, -0.85817134]|\n",
      "|20 |[0.5004493, -0.18024325, 0.08042228, -0.4120407, -0.82010114, 0.24364965, -0.32089552, 1.5661156, 1.0555433, -0.18861222]|\n",
      "|30 |[0.29699945, 0.5122262, 0.7743655, 0.26239362, -0.23122218, -0.22499156, 0.2205979, 1.5108275, 1.0886868, -0.24839555]   |\n",
      "|40 |[0.962316, 0.24725015, 0.2506125, 0.18621314, -0.3400564, 0.069881424, 0.31563887, 1.7079871, 0.6658317, 0.10538066]     |\n",
      "|50 |[0.11444859, 0.07726337, -0.04935533, -0.12985186, -0.479587, 0.25315705, 0.28283778, 1.2838686, 0.3497007, 0.38781485]  |\n",
      "+---+-------------------------------------------------------------------------------------------------------------------------+\n",
      "only showing top 5 rows\n",
      "\n"
     ]
    }
   ],
   "source": [
    "# model.userFactors.show(5,False)"
   ]
  },
  {
   "cell_type": "code",
   "execution_count": null,
   "metadata": {},
   "outputs": [
    {
     "data": {
      "text/html": [
       "<div>\n",
       "<style scoped>\n",
       "    .dataframe tbody tr th:only-of-type {\n",
       "        vertical-align: middle;\n",
       "    }\n",
       "\n",
       "    .dataframe tbody tr th {\n",
       "        vertical-align: top;\n",
       "    }\n",
       "\n",
       "    .dataframe thead th {\n",
       "        text-align: right;\n",
       "    }\n",
       "</style>\n",
       "<table border=\"1\" class=\"dataframe\">\n",
       "  <thead>\n",
       "    <tr style=\"text-align: right;\">\n",
       "      <th></th>\n",
       "      <th>userId</th>\n",
       "      <th>movieId</th>\n",
       "      <th>rating</th>\n",
       "      <th>prediction</th>\n",
       "    </tr>\n",
       "  </thead>\n",
       "  <tbody>\n",
       "    <tr>\n",
       "      <th>0</th>\n",
       "      <td>593</td>\n",
       "      <td>1580</td>\n",
       "      <td>1.5</td>\n",
       "      <td>3.060124</td>\n",
       "    </tr>\n",
       "    <tr>\n",
       "      <th>1</th>\n",
       "      <td>597</td>\n",
       "      <td>1580</td>\n",
       "      <td>3.0</td>\n",
       "      <td>3.781061</td>\n",
       "    </tr>\n",
       "    <tr>\n",
       "      <th>2</th>\n",
       "      <td>34</td>\n",
       "      <td>1580</td>\n",
       "      <td>2.5</td>\n",
       "      <td>3.102221</td>\n",
       "    </tr>\n",
       "    <tr>\n",
       "      <th>3</th>\n",
       "      <td>368</td>\n",
       "      <td>2366</td>\n",
       "      <td>4.0</td>\n",
       "      <td>3.169171</td>\n",
       "    </tr>\n",
       "    <tr>\n",
       "      <th>4</th>\n",
       "      <td>115</td>\n",
       "      <td>1580</td>\n",
       "      <td>4.0</td>\n",
       "      <td>3.457590</td>\n",
       "    </tr>\n",
       "    <tr>\n",
       "      <th>...</th>\n",
       "      <td>...</td>\n",
       "      <td>...</td>\n",
       "      <td>...</td>\n",
       "      <td>...</td>\n",
       "    </tr>\n",
       "    <tr>\n",
       "      <th>20082</th>\n",
       "      <td>535</td>\n",
       "      <td>2706</td>\n",
       "      <td>4.0</td>\n",
       "      <td>1.946153</td>\n",
       "    </tr>\n",
       "    <tr>\n",
       "      <th>20083</th>\n",
       "      <td>420</td>\n",
       "      <td>48385</td>\n",
       "      <td>3.5</td>\n",
       "      <td>3.572902</td>\n",
       "    </tr>\n",
       "    <tr>\n",
       "      <th>20084</th>\n",
       "      <td>18</td>\n",
       "      <td>2706</td>\n",
       "      <td>3.5</td>\n",
       "      <td>3.319682</td>\n",
       "    </tr>\n",
       "    <tr>\n",
       "      <th>20085</th>\n",
       "      <td>483</td>\n",
       "      <td>66785</td>\n",
       "      <td>4.0</td>\n",
       "      <td>3.423220</td>\n",
       "    </tr>\n",
       "    <tr>\n",
       "      <th>20086</th>\n",
       "      <td>89</td>\n",
       "      <td>56367</td>\n",
       "      <td>2.0</td>\n",
       "      <td>1.745275</td>\n",
       "    </tr>\n",
       "  </tbody>\n",
       "</table>\n",
       "<p>20087 rows × 4 columns</p>\n",
       "</div>"
      ],
      "text/plain": [
       "       userId  movieId  rating  prediction\n",
       "0         593     1580     1.5    3.060124\n",
       "1         597     1580     3.0    3.781061\n",
       "2          34     1580     2.5    3.102221\n",
       "3         368     2366     4.0    3.169171\n",
       "4         115     1580     4.0    3.457590\n",
       "...       ...      ...     ...         ...\n",
       "20082     535     2706     4.0    1.946153\n",
       "20083     420    48385     3.5    3.572902\n",
       "20084      18     2706     3.5    3.319682\n",
       "20085     483    66785     4.0    3.423220\n",
       "20086      89    56367     2.0    1.745275\n",
       "\n",
       "[20087 rows x 4 columns]"
      ]
     },
     "execution_count": 19,
     "metadata": {},
     "output_type": "execute_result"
    }
   ],
   "source": [
    "# prediction.toPandas()"
   ]
  },
  {
   "cell_type": "code",
   "execution_count": null,
   "metadata": {},
   "outputs": [
    {
     "name": "stdout",
     "output_type": "stream",
     "text": [
      "+------+-------------------------------------------------------------------------------------------------+\n",
      "|userId|recommendations                                                                                  |\n",
      "+------+-------------------------------------------------------------------------------------------------+\n",
      "|471   |[{3022, 4.9927526}, {89904, 4.8837285}, {446, 4.6952806}, {1446, 4.609901}, {106100, 4.603286}]  |\n",
      "|463   |[{78836, 4.6696997}, {69524, 4.659609}, {86377, 4.625015}, {3022, 4.5858045}, {665, 4.581}]      |\n",
      "|496   |[{213, 5.9084764}, {70994, 5.41703}, {3266, 4.9417677}, {6818, 4.92134}, {8973, 4.9139323}]      |\n",
      "|148   |[{2843, 4.887899}, {3404, 4.6965885}, {26073, 4.5484962}, {7071, 4.5484962}, {117531, 4.5484962}]|\n",
      "|540   |[{78836, 5.2324185}, {171495, 5.161601}, {117531, 5.133931}, {7071, 5.133931}, {26073, 5.133931}]|\n",
      "+------+-------------------------------------------------------------------------------------------------+\n",
      "only showing top 5 rows\n",
      "\n",
      "root\n",
      " |-- userId: integer (nullable = false)\n",
      " |-- recommendations: array (nullable = true)\n",
      " |    |-- element: struct (containsNull = true)\n",
      " |    |    |-- movieId: integer (nullable = true)\n",
      " |    |    |-- rating: float (nullable = true)\n",
      "\n"
     ]
    }
   ],
   "source": [
    "rec_all_users = model.recommendForAllUsers(5).cache()\n",
    "# rec_all_users.show(5,False)\n",
    "# rec_all_users.printSchema()"
   ]
  },
  {
   "cell_type": "code",
   "execution_count": null,
   "metadata": {},
   "outputs": [
    {
     "name": "stdout",
     "output_type": "stream",
     "text": [
      "+-------+------------------------------------------+----+\n",
      "|movieId|titlestring                               |year|\n",
      "+-------+------------------------------------------+----+\n",
      "|3022   |General, The                              |1926|\n",
      "|3379   |On the Beach                              |1959|\n",
      "|7096   |Rivers and Tides                          |2001|\n",
      "|89904  |The Artist                                |2011|\n",
      "|177593 |Three Billboards Outside Ebbing, Missouri |2017|\n",
      "+-------+------------------------------------------+----+\n",
      "\n"
     ]
    }
   ],
   "source": [
    "# recommendations_for_user91 = rec_all_users.filter(f.col('userId')==110)\n",
    "# movies = (\n",
    "#     spark.read.csv(\n",
    "#         path = \"./data/ml-25/movies.csv\",\n",
    "#         sep=\",\",\n",
    "#         header = True,\n",
    "#         quote='\"',\n",
    "#         schema = \"movieId INT, title STRING, genres STRING\",\n",
    "#     )\n",
    "# )\n",
    "# movieid = recommendations_for_user91.withColumn('movie',f.explode('recommendations')).withColumn('movie',f.col('movie.movieId')).select('movie')\n",
    "# movie_for_user91= movies.join(movieid,movies.movieId==movieid.movie,'inner').withColumn(\"title_year\",f.split(f.col(\"title\"),\"\\(\")).withColumn(\"year\",f.substring(f.col(\"title_year\").getItem(1),0,4)).withColumn(\"titlestring\",f.col(\"title_year\").getItem(0)).select('movieId','titlestring','year')\n",
    "# movie_for_user91.show(5,False)"
   ]
  },
  {
   "cell_type": "code",
   "execution_count": null,
   "metadata": {},
   "outputs": [
    {
     "name": "stdout",
     "output_type": "stream",
     "text": [
      "+-------+------+\n",
      "|movieId|userId|\n",
      "+-------+------+\n",
      "|      1|   110|\n",
      "|      2|   110|\n",
      "|      3|   110|\n",
      "|      4|   110|\n",
      "|      5|   110|\n",
      "+-------+------+\n",
      "only showing top 5 rows\n",
      "\n",
      "+-------+------+----------+\n",
      "|movieId|userId|prediction|\n",
      "+-------+------+----------+\n",
      "|  89904|   110|  4.816396|\n",
      "|   3022|   110| 4.7419705|\n",
      "| 177593|   110| 4.6890345|\n",
      "|   3379|   110|  4.661535|\n",
      "|   1212|   110|  4.648019|\n",
      "+-------+------+----------+\n",
      "only showing top 5 rows\n",
      "\n"
     ]
    }
   ],
   "source": [
    "ratedMovies = ratings.filter(f.col('userId')==110).select('movieId').rdd.flatMap(lambda x:x).collect()\n",
    "\n",
    "movies_to_be_rated = (\n",
    "    ratings.filter(~ f.col('movieId').isin(ratedMovies))\n",
    "    .select('movieId').distinct().withColumn('userId',f.lit(110))\n",
    ")\n",
    "# movies_to_be_rated.sort('movieId').show(5)\n",
    "\n",
    "user_movie_predictions = model.transform(movies_to_be_rated)\n",
    "user_movie_predictions.filter(~f.isnan('prediction')).orderBy('prediction',ascending=False).show(5)"
   ]
  }
 ],
 "metadata": {
  "interpreter": {
   "hash": "9661726a5a2bea85afd4a6cbe26dc9e5fa9d5526c735d4531c13ac456ed78611"
  },
  "kernelspec": {
   "display_name": "Python 3.9.9 64-bit (windows store)",
   "language": "python",
   "name": "python3"
  },
  "language_info": {
   "codemirror_mode": {
    "name": "ipython",
    "version": 3
   },
   "file_extension": ".py",
   "mimetype": "text/x-python",
   "name": "python",
   "nbconvert_exporter": "python",
   "pygments_lexer": "ipython3",
   "version": "3.9.9"
  },
  "orig_nbformat": 4
 },
 "nbformat": 4,
 "nbformat_minor": 2
}
