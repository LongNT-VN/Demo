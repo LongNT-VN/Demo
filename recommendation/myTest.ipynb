{
 "cells": [
  {
   "cell_type": "markdown",
   "metadata": {},
   "source": [
    "### Khai báo thư viện (luôn để findspark ở đầu)"
   ]
  },
  {
   "cell_type": "code",
   "execution_count": 10,
   "metadata": {},
   "outputs": [],
   "source": [
    "import findspark\n",
    "findspark.init()\n",
    "from pyspark.ml.tuning import CrossValidator\n",
    "from pyspark.ml.tuning import ParamGridBuilder\n",
    "from pyspark.ml.recommendation import ALS\n",
    "from pyspark.ml.evaluation import RegressionEvaluator\n",
    "from pyspark.sql import SparkSession\n",
    "\n",
    "# time: 0.2"
   ]
  },
  {
   "cell_type": "markdown",
   "metadata": {},
   "source": [
    "### Khởi tạo và cấu hình spark"
   ]
  },
  {
   "cell_type": "code",
   "execution_count": 11,
   "metadata": {},
   "outputs": [],
   "source": [
    "spark = SparkSession.builder \\\n",
    "    .master('local[*]') \\\n",
    "    .config(\"spark.driver.memory\", \"10g\") \\\n",
    "    .appName('movieRecommenderPySpark') \\\n",
    "    .getOrCreate()\n",
    "\n",
    "sc = spark.sparkContext\n",
    "sc.setCheckpointDir('checkpoint')\n",
    "\n",
    "# time: 10.5"
   ]
  },
  {
   "cell_type": "markdown",
   "metadata": {},
   "source": [
    "### Load data và cấu hình ALS"
   ]
  },
  {
   "cell_type": "code",
   "execution_count": 12,
   "metadata": {},
   "outputs": [],
   "source": [
    "data_type = \"small\"\n",
    "\n",
    "ratings = (\n",
    "    spark.read.csv(\n",
    "        path=f\"../data/{data_type}/ratings.csv\",\n",
    "        sep=\",\", header=True, quote='\"', schema=\"userId INT, movieId INT, rating DOUBLE, timestamp INT\",\n",
    "    ).select(\"userId\", \"movieId\", \"rating\")\n",
    "    .cache()\n",
    ")\n",
    "\n",
    "# Create training and test set (80/20 split)\n",
    "(training, test) = ratings.randomSplit([0.8, 0.2])\n",
    "\n",
    "# Build generic ALS model without hyperparameters\n",
    "als = ALS(userCol=\"userId\", itemCol=\"movieId\", ratingCol=\"rating\",\n",
    "          coldStartStrategy=\"drop\", nonnegative=True,\n",
    "          implicitPrefs=False)\n",
    "\n",
    "# Tell Spark how to evaluate model performance\n",
    "evaluator = RegressionEvaluator(metricName=\"rmse\", labelCol=\"rating\",\n",
    "                                predictionCol=\"prediction\")\n",
    "\n",
    "# time: 2.5s"
   ]
  },
  {
   "cell_type": "markdown",
   "metadata": {},
   "source": [
    "### Train với số liệu mặc định của ALS (rank 10, maxIter 10, regParam 0.1)"
   ]
  },
  {
   "cell_type": "code",
   "execution_count": 13,
   "metadata": {},
   "outputs": [],
   "source": [
    "# default value als: rank 10, maxIter 10, regParam 0.1,...\n",
    "normal_model = als.fit(training)\n",
    "\n",
    "# time: 6.4s"
   ]
  },
  {
   "cell_type": "markdown",
   "metadata": {},
   "source": [
    "### RMSE (default als param)"
   ]
  },
  {
   "cell_type": "code",
   "execution_count": 14,
   "metadata": {},
   "outputs": [
    {
     "name": "stdout",
     "output_type": "stream",
     "text": [
      "*Noraml Model*\n",
      "RMSE: 0.8708606240912293\n",
      "Rank: 10\n",
      "MaxIter: 10\n",
      "RegParam: 0.1\n"
     ]
    }
   ],
   "source": [
    "predictions = normal_model.transform(test)\n",
    "rmse = evaluator.evaluate(predictions.na.drop())\n",
    "# Print evaluation metrics and model parameters\n",
    "print (\"*Noraml Model*\")\n",
    "print (f\"RMSE: {rmse}\")\n",
    "print (f\"Rank: {normal_model.rank}\")\n",
    "print (f\"MaxIter: {normal_model._java_obj.parent().getMaxIter()}\")\n",
    "print (f\"RegParam: {normal_model._java_obj.parent().getRegParam()}\") \n",
    "\n",
    "# time: 7.9s"
   ]
  },
  {
   "cell_type": "markdown",
   "metadata": {},
   "source": [
    "### Tạo bảng tìm số liệu tốt nhất cho als"
   ]
  },
  {
   "cell_type": "code",
   "execution_count": 15,
   "metadata": {},
   "outputs": [],
   "source": [
    "# Tell Spark what values to try for each hyperparameter\n",
    "param_grid = ParamGridBuilder()\\\n",
    "    .addGrid(als.rank, [5, 10])\\\n",
    "    .addGrid(als.maxIter, [10,20])\\\n",
    "    .addGrid(als.regParam, [0.05, 0.1])\\\n",
    "    .build()\n",
    "\n",
    "# Build cross validation step using CrossValidator\n",
    "cv = CrossValidator(estimator=als,\n",
    "                    estimatorParamMaps=param_grid,\n",
    "                    evaluator=evaluator,\n",
    "                    numFolds=5)\n",
    "\n",
    "# time: 0.4s"
   ]
  },
  {
   "cell_type": "markdown",
   "metadata": {},
   "source": [
    "### Tính toán model (với từng giá trị rank, maxIter, regParam)"
   ]
  },
  {
   "cell_type": "code",
   "execution_count": 16,
   "metadata": {},
   "outputs": [],
   "source": [
    "# Run the cv on the training data\n",
    "model = cv.fit(training)\n",
    "\n",
    "# time: 5m16s"
   ]
  },
  {
   "cell_type": "code",
   "execution_count": 17,
   "metadata": {},
   "outputs": [],
   "source": [
    "# Extract best combination of values from cross validation\n",
    "best_model = model.bestModel\n",
    "\n",
    "# time: 0.3s"
   ]
  },
  {
   "cell_type": "code",
   "execution_count": 18,
   "metadata": {},
   "outputs": [
    {
     "name": "stdout",
     "output_type": "stream",
     "text": [
      "*Best Model*\n",
      "RMSE: 0.8726086770070626\n",
      "Rank: 5\n",
      "MaxIter: 20\n",
      "RegParam: 0.1\n"
     ]
    }
   ],
   "source": [
    "predictions = best_model.transform(test)\n",
    "rmse = evaluator.evaluate(predictions.na.drop())\n",
    "# Print evaluation metrics and model parameters\n",
    "print (\"*Best Model*\")\n",
    "print (f\"RMSE: {rmse}\")\n",
    "print (f\"Rank: {best_model.rank}\")\n",
    "print (f\"MaxIter: {best_model._java_obj.parent().getMaxIter()}\")\n",
    "print (f\"RegParam: {best_model._java_obj.parent().getRegParam()}\") \n",
    "\n",
    "# time: 4.8s"
   ]
  },
  {
   "cell_type": "markdown",
   "metadata": {},
   "source": [
    "### Save lại model để dùng lại"
   ]
  },
  {
   "cell_type": "code",
   "execution_count": 19,
   "metadata": {},
   "outputs": [],
   "source": [
    "# normal_model.save(\"modelRecNormal\")\n",
    "# best_model.save(\"modelRecBest\")"
   ]
  }
 ],
 "metadata": {
  "interpreter": {
   "hash": "feb3d7ba6724be8871f4f238af6531be964fe95bb3aa278788b8490ec8d3634b"
  },
  "kernelspec": {
   "display_name": "Python 3.10.1 64-bit",
   "language": "python",
   "name": "python3"
  },
  "language_info": {
   "codemirror_mode": {
    "name": "ipython",
    "version": 3
   },
   "file_extension": ".py",
   "mimetype": "text/x-python",
   "name": "python",
   "nbconvert_exporter": "python",
   "pygments_lexer": "ipython3",
   "version": "3.10.1"
  },
  "orig_nbformat": 4
 },
 "nbformat": 4,
 "nbformat_minor": 2
}
