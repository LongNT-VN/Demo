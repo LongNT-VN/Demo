{
 "cells": [
  {
   "cell_type": "code",
   "execution_count": 2,
   "metadata": {},
   "outputs": [
    {
     "name": "stdout",
     "output_type": "stream",
     "text": [
      "+------+-------+------+\n",
      "|userId|movieId|rating|\n",
      "+------+-------+------+\n",
      "|     1|    296|   5.0|\n",
      "|     1|    306|   3.5|\n",
      "|     1|    307|   5.0|\n",
      "|     1|    665|   5.0|\n",
      "|     2|    899|   3.5|\n",
      "|     3|   1088|   4.0|\n",
      "+------+-------+------+\n",
      "\n",
      "+-------+----------------------------------+-------------------------------------------+\n",
      "|movieId|title                             |genres                                     |\n",
      "+-------+----------------------------------+-------------------------------------------+\n",
      "|1      |Toy Story (1995)                  |Adventure|Animation|Children|Comedy|Fantasy|\n",
      "|2      |Jumanji (1995)                    |Adventure|Children|Fantasy                 |\n",
      "|3      |Grumpier Old Men (1995)           |Comedy|Romance                             |\n",
      "|4      |Waiting to Exhale (1995)          |Comedy|Drama|Romance                       |\n",
      "|5      |Father of the Bride Part II (1995)|Comedy                                     |\n",
      "+-------+----------------------------------+-------------------------------------------+\n",
      "only showing top 5 rows\n",
      "\n"
     ]
    }
   ],
   "source": [
    "from pyspark.mllib.recommendation import ALS, MatrixFactorizationModel, Rating\n",
    "from pyspark.sql import SparkSession\n",
    "from pyspark.sql import functions as f\n",
    "from pyspark.ml.recommendation import ALS, ALSModel\n",
    "\n",
    "\n",
    "spark = SparkSession.builder \\\n",
    "    .master('local[*]') \\\n",
    "    .config(\"spark.driver.memory\", \"4g\") \\\n",
    "    .appName('movieRecommendationPySpark') \\\n",
    "    .getOrCreate()\n",
    "model =  ALSModel.load(\"../modelrecommendation\")\n",
    "ratings = (\n",
    "    spark.read.csv(\n",
    "        path = \"../data/ml-25m/test.csv\",\n",
    "        sep=\",\", header=True,quote='\"',schema=\"userId INT, movieId INT, rating DOUBLE, timestamp INT\",\n",
    "    ).select(\"userId\", \"movieId\", \"rating\")\n",
    "    .cache()\n",
    ")\n",
    "ratings.show(10)\n",
    "movies = (\n",
    "    spark.read.csv(\n",
    "        path = \"../data/ml-25m/movies.csv\",\n",
    "        sep=\",\",\n",
    "        header = True,\n",
    "        quote='\"',\n",
    "        schema = \"movieId INT, title STRING, genres STRING\",\n",
    "    )\n",
    ")\n",
    "movies.show(5,False)\n",
    "\n"
   ]
  },
  {
   "cell_type": "code",
   "execution_count": 3,
   "metadata": {},
   "outputs": [
    {
     "name": "stderr",
     "output_type": "stream",
     "text": [
      "                                                                                \r"
     ]
    },
    {
     "name": "stdout",
     "output_type": "stream",
     "text": [
      "+-------+------+\n",
      "|movieId|userId|\n",
      "+-------+------+\n",
      "|   1088|     1|\n",
      "|    899|     1|\n",
      "+-------+------+\n",
      "\n"
     ]
    },
    {
     "name": "stderr",
     "output_type": "stream",
     "text": [
      "                                                                                \r"
     ]
    },
    {
     "name": "stdout",
     "output_type": "stream",
     "text": [
      "+-------+------+----------+\n",
      "|movieId|userId|prediction|\n",
      "+-------+------+----------+\n",
      "|    899|     1| 3.7065353|\n",
      "|   1088|     1|  2.545693|\n",
      "+-------+------+----------+\n",
      "\n"
     ]
    }
   ],
   "source": [
    "ratedMovies = ratings.filter(f.col('userId')==1).select('movieId').rdd.flatMap(lambda x:x).collect()\n",
    "movies_to_be_rated = (\n",
    "    ratings.filter(~ f.col('movieId').isin(ratedMovies))\n",
    "    .select('movieId').distinct().withColumn('userId',f.lit(1))\n",
    ")\n",
    "movies_to_be_rated.show()\n",
    "user_movie_predictions = model.transform(movies_to_be_rated)\n",
    "user_movie_predictions.filter(~f.isnan('prediction')).orderBy('prediction',ascending=False).show(5)"
   ]
  },
  {
   "cell_type": "code",
   "execution_count": 4,
   "metadata": {},
   "outputs": [
    {
     "name": "stderr",
     "output_type": "stream",
     "text": [
      "[Stage 30:==================================>                     (23 + 4) / 37]\r"
     ]
    },
    {
     "name": "stdout",
     "output_type": "stream",
     "text": [
      "+-------+--------------------------------------------+----+\n",
      "|movieId|titlestring                                 |year|\n",
      "+-------+--------------------------------------------+----+\n",
      "|183947 |NOFX Backstage Passport 2                   |null|\n",
      "|200930 |C'est quoi la vie?                          |1999|\n",
      "|192089 |National Theatre Live: One Man, Two Guvnors |2011|\n",
      "|203086 |Truth and Justice                           |2019|\n",
      "|200872 |School of Babel                             |2014|\n",
      "+-------+--------------------------------------------+----+\n",
      "\n"
     ]
    },
    {
     "name": "stderr",
     "output_type": "stream",
     "text": [
      "                                                                                \r"
     ]
    }
   ],
   "source": [
    "rec_all_users = model.recommendForAllUsers(5).cache()\n",
    "recommendations_for_user91 = rec_all_users.filter(f.col('userId')==1)\n",
    "\n",
    "movieid = recommendations_for_user91.withColumn('movie',f.explode('recommendations')).withColumn('movie',f.col('movie.movieId')).select('movie')\n",
    "movie_for_user91= movies.join(movieid,movies.movieId==movieid.movie,'inner').withColumn(\"title_year\",f.split(f.col(\"title\"),\"\\(\")).withColumn(\"year\",f.substring(f.col(\"title_year\").getItem(1),0,4)).withColumn(\"titlestring\",f.col(\"title_year\").getItem(0)).select('movieId','titlestring','year')\n",
    "movie_for_user91.show(5,False)"
   ]
  }
 ],
 "metadata": {
  "interpreter": {
   "hash": "9661726a5a2bea85afd4a6cbe26dc9e5fa9d5526c735d4531c13ac456ed78611"
  },
  "kernelspec": {
   "display_name": "Python 3.9.9 64-bit (windows store)",
   "language": "python",
   "name": "python3"
  },
  "language_info": {
   "codemirror_mode": {
    "name": "ipython",
    "version": 3
   },
   "file_extension": ".py",
   "mimetype": "text/x-python",
   "name": "python",
   "nbconvert_exporter": "python",
   "pygments_lexer": "ipython3",
   "version": "3.9.5"
  },
  "orig_nbformat": 4
 },
 "nbformat": 4,
 "nbformat_minor": 2
}
